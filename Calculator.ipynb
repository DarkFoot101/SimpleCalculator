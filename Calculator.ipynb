{
 "cells": [
  {
   "cell_type": "code",
   "execution_count": 1,
   "metadata": {},
   "outputs": [],
   "source": [
    "from tkinter import *\n",
    "\n",
    "window = Tk()\n",
    "window.title(\"CALCULATOR\")\n",
    "window.configure(bg=\"dark grey\")\n",
    "\n",
    "t1 = Entry(window)\n",
    "t1.pack()\n",
    "\n",
    "def click(event):\n",
    "    current = t1.get()\n",
    "    txt = event.widget.cget(\"text\")\n",
    "\n",
    "    if txt == \"=\":\n",
    "\n",
    "            result = eval(current)\n",
    "            t1.delete(0, END)\n",
    "            t1.insert(END, str(result))#right to left\n",
    "\n",
    "\n",
    "    elif txt == \"C\":\n",
    "        t1.delete(0, END)\n",
    "    else:\n",
    "        t1.insert(END, txt)\n",
    "\n",
    "list1 = ['7', '8', '9', '*', '4', '5', '6', '+', '1', '2', '3', '-', '/', '0', '.', '=', 'C']\n",
    "\n",
    "i = 0\n",
    "f1 = Frame(window)\n",
    "f1.pack()\n",
    "\n",
    "for elem in list1:\n",
    "    button = Button(f1, text=elem, padx=20, pady=25)\n",
    "    button.grid(row=i // 4, column=i % 4, padx=20, pady=20)\n",
    "    button.bind(\"<Button-1>\", click)  # Use <Button-1> for left mouse click\n",
    "    i += 1\n",
    "\n",
    "window.mainloop()"
   ]
  }
 ],
 "metadata": {
  "kernelspec": {
   "display_name": "Python 3",
   "language": "python",
   "name": "python3"
  },
  "language_info": {
   "codemirror_mode": {
    "name": "ipython",
    "version": 3
   },
   "file_extension": ".py",
   "mimetype": "text/x-python",
   "name": "python",
   "nbconvert_exporter": "python",
   "pygments_lexer": "ipython3",
   "version": "3.11.8"
  }
 },
 "nbformat": 4,
 "nbformat_minor": 2
}
